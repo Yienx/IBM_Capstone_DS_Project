{
    "cells": [
        {
            "metadata": {
                "collapsed": true
            },
            "cell_type": "markdown",
            "source": "# My Jupyter Notebook on IBM Watson Studio"
        },
        {
            "metadata": {},
            "cell_type": "markdown",
            "source": "**My name is Onyinye Obijiofor**\n\nI'm a Data Analyst for a Health Insurance Company.\n"
        },
        {
            "metadata": {},
            "cell_type": "markdown",
            "source": "*I'm interested in Data Science because I would like to bridge the current gaps I'm experiencing as a data analyst*"
        },
        {
            "metadata": {},
            "cell_type": "markdown",
            "source": "### This is a code that contains a list of possible careers path a Data Scientist can take. "
        },
        {
            "metadata": {},
            "cell_type": "code",
            "source": "DS_Careers = (\"1: Data Scientist\", \"2: Business Intelligence Analyst\", \"3: Data Analyst\", \"4: Data Engineer\", \"5: Data Architect,\" + \" e.t.c\")\nprint(*DS_Careers, sep = \"\\n\")",
            "execution_count": 15,
            "outputs": [
                {
                    "output_type": "stream",
                    "text": "1: Data Scientist\n2: Business Intelligence Analyst\n3: Data Analyst\n4: Data Engineer\n5: Data Architect, e.t.c\n",
                    "name": "stdout"
                }
            ]
        },
        {
            "metadata": {},
            "cell_type": "markdown",
            "source": "<img src=\"https://i.pinimg.com/originals/5f/3d/e9/5f3de9464de830adbaa0f79682127b1c.jpg\"  width=\"600\" height=\"600\" alt=\"Google Image\" Title = \"All the Best Image Retrieved from Google\">"
        },
        {
            "metadata": {},
            "cell_type": "code",
            "source": "",
            "execution_count": null,
            "outputs": []
        }
    ],
    "metadata": {
        "kernelspec": {
            "name": "python3",
            "display_name": "Python 3.10",
            "language": "python"
        },
        "language_info": {
            "name": "python",
            "version": "3.10.9",
            "mimetype": "text/x-python",
            "codemirror_mode": {
                "name": "ipython",
                "version": 3
            },
            "pygments_lexer": "ipython3",
            "nbconvert_exporter": "python",
            "file_extension": ".py"
        }
    },
    "nbformat": 4,
    "nbformat_minor": 1
}